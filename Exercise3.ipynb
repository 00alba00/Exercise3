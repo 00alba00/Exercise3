{
  "nbformat": 4,
  "nbformat_minor": 0,
  "metadata": {
    "colab": {
      "provenance": [],
      "gpuType": "T4",
      "authorship_tag": "ABX9TyNPSZSQAuzeisk8r1cbCTIh",
      "include_colab_link": true
    },
    "kernelspec": {
      "name": "python3",
      "display_name": "Python 3"
    },
    "language_info": {
      "name": "python"
    },
    "accelerator": "GPU"
  },
  "cells": [
    {
      "cell_type": "markdown",
      "metadata": {
        "id": "view-in-github",
        "colab_type": "text"
      },
      "source": [
        "<a href=\"https://colab.research.google.com/github/00alba00/Exercise3/blob/main/Exercise3.ipynb\" target=\"_parent\"><img src=\"https://colab.research.google.com/assets/colab-badge.svg\" alt=\"Open In Colab\"/></a>"
      ]
    },
    {
      "cell_type": "markdown",
      "source": [
        "Preprocessing of frequencies from corpus ELEXIS Spanish Web 2020"
      ],
      "metadata": {
        "id": "w0btI4KrDXjO"
      }
    },
    {
      "cell_type": "code",
      "execution_count": 4,
      "metadata": {
        "colab": {
          "base_uri": "https://localhost:8080/"
        },
        "id": "cdYBcKUfDS6U",
        "outputId": "1101a0c6-91d6-4009-e555-b9ed29b3eb79"
      },
      "outputs": [
        {
          "output_type": "stream",
          "name": "stdout",
          "text": [
            "Processed data:\n",
            "         Item  Frequency  relative_frequency\n",
            "0          de   71143538            0.087946\n",
            "1               57568049            0.071164\n",
            "2          la   38911836            0.048102\n",
            "3               38462549            0.047546\n",
            "4         que   30267030            0.037415\n",
            "..        ...        ...                 ...\n",
            "995  paciente     104611            0.000129\n",
            "996  animales     104494            0.000129\n",
            "997    figura     104471            0.000129\n",
            "998  completa     104403            0.000129\n",
            "999  contrato     104387            0.000129\n",
            "\n",
            "[1000 rows x 3 columns]\n"
          ]
        }
      ],
      "source": [
        "import pandas as pd\n",
        "import re\n",
        "\n",
        "# Load the CSV file into a DataFrame\n",
        "df = pd.read_csv('wordlist.csv')\n",
        "\n",
        "# Remove special characters from the 'item' column\n",
        "df['Item'] = df['Item'].apply(lambda x: re.sub(r'[^\\w\\s]', '', x))\n",
        "\n",
        "# Calculate the total frequency\n",
        "total_frequency = df['Frequency'].sum()\n",
        "\n",
        "# Calculate the relative frequency\n",
        "df['relative_frequency'] = df['Frequency'] / total_frequency\n",
        "\n",
        "# Create a dictionary with item as key and relative frequency as value\n",
        "item_relative_frequency = dict(zip(df['Item'], df['relative_frequency']))\n",
        "\n",
        "# Print out the processed data\n",
        "print(\"Processed data:\")\n",
        "print(df)\n",
        "\n",
        "# Save the processed data to a variable\n",
        "processed_data = df[['Item', 'relative_frequency']].set_index('Item').to_dict()['relative_frequency']"
      ]
    },
    {
      "cell_type": "markdown",
      "source": [
        "Analysis of model performance based on word frequency categories"
      ],
      "metadata": {
        "id": "GQ0bKhqZfqaf"
      }
    },
    {
      "cell_type": "code",
      "source": [
        "import pandas as pd\n",
        "\n",
        "# Step 1: Load processed word frequency data\n",
        "# Convert the dictionary to a DataFrame\n",
        "word_frequency_df = pd.DataFrame(processed_data.items(), columns=['Item', 'relative_frequency'])\n",
        "\n",
        "# Step 2: Function to categorize word frequency\n",
        "def categorize_frequency(relative_frequency):\n",
        "    if relative_frequency >= 0.01:\n",
        "        return 'High Frequency'\n",
        "    elif relative_frequency >= 0.001:\n",
        "        return 'Medium Frequency'\n",
        "    else:\n",
        "        return 'Low Frequency'\n",
        "\n",
        "word_frequency_df['Frequency Level'] = word_frequency_df['relative_frequency'].apply(categorize_frequency)\n",
        "\n",
        "# Step 3: Load model performance data\n",
        "model_performance_df = pd.read_csv('EsCoLA.csv')  # Replace 'model_performance_data.csv' with your file name\n",
        "\n",
        "# Step 4: Analyze model performance for each frequency category\n",
        "result = {}\n",
        "for freq_level in ['High Frequency', 'Medium Frequency', 'Low Frequency']:\n",
        "    sentences_with_freq_level = model_performance_df[model_performance_df['Sentence'].str.contains('|'.join(word_frequency_df[word_frequency_df['Frequency Level'] == freq_level]['Item']))]\n",
        "    total_sentences = len(sentences_with_freq_level)\n",
        "    error_sentences = len(sentences_with_freq_level[sentences_with_freq_level['Label'] != sentences_with_freq_level['Human_annotation_median']])\n",
        "    error_percentage = (error_sentences / total_sentences) * 100 if total_sentences != 0 else 0\n",
        "    result[freq_level] = error_percentage\n",
        "\n",
        "# Step 5: Output the results\n",
        "output_df = pd.DataFrame(result.items(), columns=['Frequencies', 'Error percentage'])\n",
        "\n",
        "# Step 6: Print the output\n",
        "print(\"Output:\")\n",
        "print(output_df)"
      ],
      "metadata": {
        "colab": {
          "base_uri": "https://localhost:8080/"
        },
        "id": "KvMdW7A1DqUF",
        "outputId": "2518eb5a-bf0c-4564-8e49-bd7975e9e4bc"
      },
      "execution_count": 2,
      "outputs": [
        {
          "output_type": "stream",
          "name": "stdout",
          "text": [
            "Output:\n",
            "        Frequencies  Error percentage\n",
            "0    High Frequency          8.301486\n",
            "1  Medium Frequency          8.330700\n",
            "2     Low Frequency          8.320185\n"
          ]
        }
      ]
    },
    {
      "cell_type": "code",
      "source": [
        "import pandas as pd\n",
        "\n",
        "# Step 1: Load processed word frequency data\n",
        "word_frequency_df = pd.DataFrame(processed_data.items(), columns=['Item', 'relative_frequency'])\n",
        "\n",
        "# Step 2: Calculate frequency levels based on relative frequency\n",
        "def calculate_frequency_level(relative_frequency):\n",
        "    if relative_frequency >= 0.01:\n",
        "        return 'High frequency'\n",
        "    elif relative_frequency >= 0.001:\n",
        "        return 'Medium frequency'\n",
        "    else:\n",
        "        return 'Low frequency'\n",
        "\n",
        "word_frequency_df['Frequency_level'] = word_frequency_df['relative_frequency'].apply(calculate_frequency_level)\n",
        "\n",
        "# Step 3: Load model performance data\n",
        "model_performance_df = pd.read_csv('EsCoLA.csv')  # Replace 'model_performance_data.csv' with your CSV file\n",
        "\n",
        "\n",
        "# Step 4: Analyze relationship between word frequency and model's performance\n",
        "def analyze_performance_by_frequency_level(sentence):\n",
        "    # Calculate frequency level for each word in the sentence\n",
        "    words = sentence.split()\n",
        "    frequency_levels = []\n",
        "    for word in words:\n",
        "        # Check if the word is present in the frequency data\n",
        "        if word in word_frequency_df['Item'].values:\n",
        "            # Retrieve the frequency level for the word\n",
        "            frequency_level = word_frequency_df.loc[word_frequency_df['Item'] == word, 'Frequency_level'].values[0]\n",
        "            frequency_levels.append(frequency_level)\n",
        "        else:\n",
        "            # If the word is not found in the frequency data, consider it as low frequency\n",
        "            frequency_levels.append('Low frequency')\n",
        "\n",
        "    # Assign the minimum frequency level of all words in the sentence as the frequency level of the sentence\n",
        "    sentence_frequency_level = min(frequency_levels, key=lambda x: ['Low frequency', 'Medium frequency', 'High frequency'].index(x))\n",
        "\n",
        "    # Count the number of errors for the given frequency level\n",
        "    errors = model_performance_df[(model_performance_df['Sentence'] == sentence) & (model_performance_df['Label'] != model_performance_df['Human_annotation_median'])]\n",
        "    error_count = len(errors)\n",
        "\n",
        "    return sentence_frequency_level, error_count\n",
        "\n",
        "# Apply the function to each sentence and create a DataFrame\n",
        "sentences = model_performance_df['Sentence'].unique()\n",
        "frequency_error_data = [analyze_performance_by_frequency_level(sentence) for sentence in sentences]\n",
        "frequency_error_df = pd.DataFrame(frequency_error_data, columns=['Frequencies', 'Error Number'])\n",
        "\n",
        "\n",
        "# Step 5: Output the table\n",
        "print(frequency_error_df)"
      ],
      "metadata": {
        "colab": {
          "base_uri": "https://localhost:8080/"
        },
        "id": "RSA3YJNUEAv3",
        "outputId": "549d8ba7-0ed8-4c0b-b79f-8ba73f3a90c9"
      },
      "execution_count": 3,
      "outputs": [
        {
          "output_type": "stream",
          "name": "stdout",
          "text": [
            "        Frequencies  Error Number\n",
            "0     Low frequency             0\n",
            "1     Low frequency             0\n",
            "2     Low frequency             1\n",
            "3     Low frequency             1\n",
            "4     Low frequency             0\n",
            "...             ...           ...\n",
            "9460  Low frequency             0\n",
            "9461  Low frequency             0\n",
            "9462  Low frequency             0\n",
            "9463  Low frequency             0\n",
            "9464  Low frequency             0\n",
            "\n",
            "[9465 rows x 2 columns]\n"
          ]
        }
      ]
    }
  ]
}